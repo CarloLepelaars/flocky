{
 "cells": [
  {
   "cell_type": "code",
   "execution_count": null,
   "metadata": {},
   "outputs": [],
   "source": [
    "#| hide\n",
    "from flocky.core import *"
   ]
  },
  {
   "cell_type": "markdown",
   "metadata": {},
   "source": [
    "# flocky\n",
    "\n",
    "> (Unofficial) SDK for Flock.io"
   ]
  },
  {
   "cell_type": "markdown",
   "metadata": {},
   "source": [
    "`flocky` makes participating in [Flock.io](https://www.flock.io) easy! \n",
    "\n",
    "**NOTE:** This project is not officially affiliated with Flock.io. This package is maintained by a participant of the Flock.io community. While I strive for correctness, I cannot guarantee that this package is bug-free. Always verify your own implementation, especially when using `flocky` in production."
   ]
  },
  {
   "cell_type": "markdown",
   "metadata": {},
   "source": [
    "## Quickstart"
   ]
  },
  {
   "cell_type": "code",
   "execution_count": null,
   "metadata": {},
   "outputs": [
    {
     "name": "stdout",
     "output_type": "stream",
     "text": [
      "Task title: FLock x OneKey: Advancing AI-Driven Smart Contract Security\n",
      "Task status: submission_phase\n"
     ]
    }
   ],
   "source": [
    "#|eval: false\n",
    "from flocky.api import get_task\n",
    "\n",
    "task = get_task(7)\n",
    "print(\"Task title:\", task['title'])\n",
    "print(\"Task status:\", task['status'])"
   ]
  }
 ],
 "metadata": {
  "kernelspec": {
   "display_name": "python3",
   "language": "python",
   "name": "python3"
  }
 },
 "nbformat": 4,
 "nbformat_minor": 4
}
