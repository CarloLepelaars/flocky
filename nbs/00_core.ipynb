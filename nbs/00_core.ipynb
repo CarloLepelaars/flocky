{
 "cells": [
  {
   "cell_type": "markdown",
   "metadata": {},
   "source": [
    "# core\n",
    "\n",
    "> Basic utilities"
   ]
  },
  {
   "cell_type": "code",
   "execution_count": null,
   "metadata": {},
   "outputs": [],
   "source": [
    "#|default_exp core"
   ]
  },
  {
   "cell_type": "code",
   "execution_count": null,
   "metadata": {},
   "outputs": [],
   "source": [
    "#|hide\n",
    "from nbdev.showdoc import *"
   ]
  },
  {
   "cell_type": "code",
   "execution_count": null,
   "metadata": {},
   "outputs": [],
   "source": [
    "#|export\n",
    "import torch\n",
    "from fastcore.all import *"
   ]
  },
  {
   "cell_type": "markdown",
   "metadata": {},
   "source": [
    "# Base Variables"
   ]
  },
  {
   "cell_type": "code",
   "execution_count": null,
   "metadata": {},
   "outputs": [
    {
     "data": {
      "text/plain": [
       "'https://fed-ledger-prod.flock.io/api/v1/'"
      ]
     },
     "execution_count": null,
     "metadata": {},
     "output_type": "execute_result"
    }
   ],
   "source": [
    "#|export\n",
    "BASE_URL = 'https://fed-ledger-prod.flock.io/api/v1/'\n",
    "BASE_URL"
   ]
  },
  {
   "cell_type": "markdown",
   "metadata": {},
   "source": [
    "# Health Check"
   ]
  },
  {
   "cell_type": "code",
   "execution_count": null,
   "metadata": {},
   "outputs": [],
   "source": [
    "#|export\n",
    "def check_flock(): return loads(urlread(f'{BASE_URL}health'))[\"status\"] == \"ok\""
   ]
  },
  {
   "cell_type": "code",
   "execution_count": null,
   "metadata": {},
   "outputs": [
    {
     "data": {
      "text/plain": [
       "True"
      ]
     },
     "execution_count": null,
     "metadata": {},
     "output_type": "execute_result"
    }
   ],
   "source": [
    "#|eval: false\n",
    "check_flock()"
   ]
  },
  {
   "cell_type": "markdown",
   "metadata": {},
   "source": [
    "## GPU Info"
   ]
  },
  {
   "cell_type": "code",
   "execution_count": null,
   "metadata": {},
   "outputs": [],
   "source": [
    "#|export\n",
    "def get_gpu_info():\n",
    "    gpu_dict = AttrDict()\n",
    "    gpu_dict.cuda_available = torch.cuda.is_available()\n",
    "    if gpu_dict.cuda_available:\n",
    "        gpu_dict.gpu_count = torch.cuda.device_count()\n",
    "        for i in range(gpu_dict.gpu_count):\n",
    "            gpu_dict[f'gpu_{i}'] = AttrDict()\n",
    "            gpu_dict[f'gpu_{i}'].name = torch.cuda.get_device_name(i)\n",
    "            gpu_dict[f'gpu_{i}'].properties = torch.cuda.get_device_properties(i)\n",
    "            gpu_dict[f'gpu_{i}'].total_memory = gpu_dict[f'gpu_{i}'].properties.total_memory / 1024**3\n",
    "            gpu_dict[f'gpu_{i}'].cuda_capability = f\"{gpu_dict[f'gpu_{i}'].properties.major}.{gpu_dict[f'gpu_{i}'].properties.minor}\"\n",
    "    else:\n",
    "        gpu_dict.gpu_count = 0\n",
    "    return gpu_dict"
   ]
  },
  {
   "cell_type": "code",
   "execution_count": null,
   "metadata": {},
   "outputs": [
    {
     "data": {
      "text/markdown": [
       "```json\n",
       "{'cuda_available': False, 'gpu_count': 0}\n",
       "```"
      ],
      "text/plain": [
       "{'cuda_available': False, 'gpu_count': 0}"
      ]
     },
     "execution_count": null,
     "metadata": {},
     "output_type": "execute_result"
    }
   ],
   "source": [
    "gpu_info = get_gpu_info()\n",
    "assert isinstance(gpu_info, AttrDict)\n",
    "test_eq(gpu_info.gpu_count, 0)\n",
    "test_eq(gpu_info.cuda_available, False)\n",
    "gpu_info"
   ]
  },
  {
   "cell_type": "code",
   "execution_count": null,
   "metadata": {},
   "outputs": [],
   "source": [
    "#|hide\n",
    "import nbdev; nbdev.nbdev_export()"
   ]
  }
 ],
 "metadata": {
  "kernelspec": {
   "display_name": "python3",
   "language": "python",
   "name": "python3"
  }
 },
 "nbformat": 4,
 "nbformat_minor": 4
}
